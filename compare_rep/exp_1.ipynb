{
 "cells": [
  {
   "cell_type": "code",
   "execution_count": 1,
   "metadata": {},
   "outputs": [],
   "source": [
    "import torch\n",
    "import os\n",
    "import numpy as np\n",
    "import pandas as pd\n",
    "import matplotlib.pyplot as plt\n",
    "\n",
    "from torchvision import transforms\n",
    "from engine.engine import *\n",
    "from data.dataloader import *\n",
    "from utils.data_utils import *\n",
    "from models.cnn_model import *\n",
    "from utils.helper_function import *"
   ]
  },
  {
   "cell_type": "code",
   "execution_count": 2,
   "metadata": {},
   "outputs": [],
   "source": [
    "input_dir = \"/Users/winirrr/Documents/EventBased_Project/raw_data/EB_data_1\"\n",
    "output_dir = \"datasets/dif_duration_dataset_2\"\n",
    "results_dir = \"./results\"\n",
    "\n",
    "# process_directory(input_dir=input_dir,\n",
    "#                   output_dir=os.path.join(output_dir,\"33ms\"),\n",
    "#                   representation=dv_time_surface_tSlice,\n",
    "#                   duration=33)\n",
    "\n",
    "# process_directory(input_dir=input_dir,\n",
    "#                   output_dir=os.path.join(output_dir,\"22ms\"),\n",
    "#                   representation=dv_time_surface_tSlice,\n",
    "#                   duration=22)\n",
    "\n",
    "# process_directory(input_dir=input_dir,\n",
    "#                   output_dir=os.path.join(output_dir,\"11ms\"),\n",
    "#                   representation=dv_time_surface_tSlice,\n",
    "#                   duration=11)\n"
   ]
  },
  {
   "cell_type": "code",
   "execution_count": 3,
   "metadata": {},
   "outputs": [],
   "source": [
    "df_33 = create_file_label_dataframe(directory_path=os.path.join(output_dir,\"33ms\"))\n",
    "df_22 = create_file_label_dataframe(directory_path=os.path.join(output_dir,\"22ms\"))\n",
    "df_11 = create_file_label_dataframe(directory_path=os.path.join(output_dir,\"11ms\"))"
   ]
  },
  {
   "cell_type": "code",
   "execution_count": 4,
   "metadata": {},
   "outputs": [
    {
     "name": "stdout",
     "output_type": "stream",
     "text": [
      "Total images from slicing 33ms \n",
      "label\n",
      "no_press    4350\n",
      "press       3397\n",
      "Name: count, dtype: int64\n"
     ]
    }
   ],
   "source": [
    "print(f\"Total images from slicing 33ms \\n{df_33.label.value_counts()}\")"
   ]
  },
  {
   "cell_type": "code",
   "execution_count": 5,
   "metadata": {},
   "outputs": [
    {
     "name": "stdout",
     "output_type": "stream",
     "text": [
      "Total images from slicing 22ms \n",
      "label\n",
      "no_press    6528\n",
      "press       5101\n",
      "Name: count, dtype: int64\n"
     ]
    }
   ],
   "source": [
    "print(f\"Total images from slicing 22ms \\n{df_22.label.value_counts()}\")"
   ]
  },
  {
   "cell_type": "code",
   "execution_count": 6,
   "metadata": {},
   "outputs": [
    {
     "name": "stdout",
     "output_type": "stream",
     "text": [
      "Total images from slicing 11ms \n",
      "label\n",
      "no_press    13060\n",
      "press       10207\n",
      "Name: count, dtype: int64\n"
     ]
    }
   ],
   "source": [
    "print(f\"Total images from slicing 11ms \\n{df_11.label.value_counts()}\")"
   ]
  },
  {
   "cell_type": "code",
   "execution_count": 7,
   "metadata": {},
   "outputs": [],
   "source": [
    "transform = transforms.Compose([\n",
    "    transforms.Resize((32, 32)),  # Resize the images if needed\n",
    "    transforms.Grayscale(num_output_channels=1),\n",
    "    transforms.ToTensor(),         # Convert images to tensor\n",
    "    transforms.Normalize(mean=[0.485], std=[0.229])  # Normalize\n",
    "])\n",
    "\n",
    "#Hyperparameter\n",
    "NUM_EPOCHS = 10\n",
    "# NUM_WORKERS = os.cpu_count()\n",
    "LR_RATE = 1e-3\n",
    "BATCH_SIZE = 64"
   ]
  },
  {
   "cell_type": "markdown",
   "metadata": {},
   "source": [
    "### Model_0\n",
    "\n",
    "Train model with 33 ms sliced time surface"
   ]
  },
  {
   "cell_type": "code",
   "execution_count": 8,
   "metadata": {},
   "outputs": [],
   "source": [
    "# train_dataloader_33, test_dataloader_33, classes_33 = create_dataloader(data_dir=os.path.join(output_dir,\"33ms\"),\n",
    "#                                                                         transform=transform,\n",
    "#                                                                         batch_size=BATCH_SIZE,)"
   ]
  },
  {
   "cell_type": "code",
   "execution_count": 9,
   "metadata": {},
   "outputs": [],
   "source": [
    "# from timeit import default_timer as timer\n",
    "# # Set random seeds\n",
    "# # torch.manual_seed(42)\n",
    "# # torch.cuda.manual_seed(42)\n",
    "\n",
    "\n",
    "\n",
    "# # early_stopping = EarlyStopping(patience=5)\n",
    "\n",
    "# # Device agnostic\n",
    "# device= (\"cuda\" if torch.cuda.is_available() else \"cpu\")\n",
    "\n",
    "# # Implement model\n",
    "# model_0 = LeNet()\n",
    "\n",
    "\n",
    "# # Implement loss function and optimizer\n",
    "# loss_fn =  torch.nn.CrossEntropyLoss()\n",
    "# optimizer = torch.optim.Adam(params=model_0.parameters(),\n",
    "#                              lr=LR_RATE)\n",
    "\n",
    "# start_time = timer()\n",
    "\n",
    "# model_0_results = train(model=model_0,\n",
    "#                         train_dataloader=train_dataloader_33,\n",
    "#                         test_dataloader=test_dataloader_33,\n",
    "#                         optimizer=optimizer,\n",
    "#                         loss_fn=loss_fn,\n",
    "#                         epochs=NUM_EPOCHS,\n",
    "#                         device=device,\n",
    "#                         # early_stopping=early_stopping\n",
    "#                         )\n",
    "\n",
    "# end_time = timer()\n",
    "# print(f\"Total training time: {end_time - start_time:.3f} seconds\")"
   ]
  },
  {
   "cell_type": "code",
   "execution_count": 10,
   "metadata": {},
   "outputs": [],
   "source": [
    "# plot_loss_curves(model_0_results)"
   ]
  },
  {
   "cell_type": "code",
   "execution_count": 11,
   "metadata": {},
   "outputs": [],
   "source": [
    "# # Convert the results to a DataFrame and save it as a CSV file\n",
    "# model_0_df = pd.DataFrame(model_0_results)\n",
    "# model_0_df.to_csv(os.path.join(results_dir, \"exp6/dv_ts_33ms_1.csv\"), index=False)"
   ]
  },
  {
   "cell_type": "markdown",
   "metadata": {},
   "source": [
    "### Model_1\n",
    "Train model with 22ms sliced time surface"
   ]
  },
  {
   "cell_type": "code",
   "execution_count": 12,
   "metadata": {},
   "outputs": [],
   "source": [
    "# train_dataloader_22, test_dataloader_22, classes_22 = create_dataloader(data_dir=os.path.join(output_dir,\"22ms\"),\n",
    "#                                                                         transform=transform,\n",
    "#                                                                         batch_size=BATCH_SIZE,)"
   ]
  },
  {
   "cell_type": "code",
   "execution_count": 13,
   "metadata": {},
   "outputs": [],
   "source": [
    "# from timeit import default_timer as timer\n",
    "# # Set random seeds\n",
    "# # torch.manual_seed(42)\n",
    "# # torch.cuda.manual_seed(42)\n",
    "\n",
    "\n",
    "\n",
    "# # early_stopping = EarlyStopping(patience=5)\n",
    "\n",
    "# # Device agnostic\n",
    "# device= (\"cuda\" if torch.cuda.is_available() else \"cpu\")\n",
    "\n",
    "# # Implement model\n",
    "# model_1 = LeNet()\n",
    "\n",
    "\n",
    "# # Implement loss function and optimizer\n",
    "# loss_fn =  torch.nn.CrossEntropyLoss()\n",
    "# optimizer = torch.optim.Adam(params=model_1.parameters(),\n",
    "#                              lr=LR_RATE)\n",
    "\n",
    "# start_time = timer()\n",
    "\n",
    "# model_1_results = train(model=model_1,\n",
    "#                         train_dataloader=train_dataloader_22,\n",
    "#                         test_dataloader=test_dataloader_22,\n",
    "#                         optimizer=optimizer,\n",
    "#                         loss_fn=loss_fn,\n",
    "#                         epochs=NUM_EPOCHS,\n",
    "#                         device=device,\n",
    "#                         # early_stopping=early_stopping\n",
    "#                         )\n",
    "\n",
    "# end_time = timer()\n",
    "# print(f\"Total training time: {end_time - start_time:.3f} seconds\")"
   ]
  },
  {
   "cell_type": "code",
   "execution_count": 14,
   "metadata": {},
   "outputs": [],
   "source": [
    "# plot_loss_curves(model_1_results)"
   ]
  },
  {
   "cell_type": "code",
   "execution_count": 15,
   "metadata": {},
   "outputs": [],
   "source": [
    "# # Convert the results to a DataFrame and save it as a CSV file\n",
    "# model_1_df = pd.DataFrame(model_1_results)\n",
    "# model_1_df.to_csv(os.path.join(results_dir, \"dv_ts_22ms_1.csv\"), index=False)"
   ]
  },
  {
   "cell_type": "markdown",
   "metadata": {},
   "source": [
    "### Model_2\n",
    "Train model with 11ms sliced time surface"
   ]
  },
  {
   "cell_type": "code",
   "execution_count": 16,
   "metadata": {},
   "outputs": [
    {
     "name": "stdout",
     "output_type": "stream",
     "text": [
      "Number of classes: 2\n",
      "Class to index mapping: {'no_press': 0, 'press': 1}\n",
      "Total number of images: 23267\n",
      "Number of training images: 18613\n",
      "Number of test images: 4654\n",
      "Training DataLoader:\n",
      "torch.Size([64, 1, 32, 32]) torch.Size([64])\n",
      "Test DataLoader:\n",
      "torch.Size([64, 1, 32, 32]) torch.Size([64])\n",
      "Number of training batches: 291\n",
      "Number of test batches: 73\n"
     ]
    }
   ],
   "source": [
    "train_dataloader_11, test_dataloader_11, classes_11 = create_dataloader(data_dir=os.path.join(output_dir,\"11ms\"),\n",
    "                                                                        transform=transform,\n",
    "                                                                        batch_size=BATCH_SIZE,)"
   ]
  },
  {
   "cell_type": "code",
   "execution_count": 17,
   "metadata": {},
   "outputs": [
    {
     "data": {
      "application/vnd.jupyter.widget-view+json": {
       "model_id": "152f8f849a814a86995263c4a3f02885",
       "version_major": 2,
       "version_minor": 0
      },
      "text/plain": [
       "  0%|          | 0/10 [00:00<?, ?it/s]"
      ]
     },
     "metadata": {},
     "output_type": "display_data"
    },
    {
     "name": "stdout",
     "output_type": "stream",
     "text": [
      "Epochs: 0 | train_loss : 0.1337 | train_acc: 96.57% | test_loss : 0.0425| test_acc: 98.59%\n",
      "Epochs: 1 | train_loss : 0.0273 | train_acc: 99.31% | test_loss : 0.0196| test_acc: 99.46%\n",
      "Epochs: 2 | train_loss : 0.0197 | train_acc: 99.51% | test_loss : 0.0226| test_acc: 99.49%\n",
      "Epochs: 3 | train_loss : 0.0152 | train_acc: 99.64% | test_loss : 0.0128| test_acc: 99.70%\n",
      "Epochs: 4 | train_loss : 0.0252 | train_acc: 99.50% | test_loss : 0.0112| test_acc: 99.68%\n",
      "Epochs: 5 | train_loss : 0.0128 | train_acc: 99.67% | test_loss : 0.0280| test_acc: 99.53%\n",
      "Epochs: 6 | train_loss : 0.0132 | train_acc: 99.67% | test_loss : 0.0135| test_acc: 99.68%\n",
      "Epochs: 7 | train_loss : 0.0108 | train_acc: 99.72% | test_loss : 0.0078| test_acc: 99.70%\n",
      "Epochs: 8 | train_loss : 0.0092 | train_acc: 99.74% | test_loss : 0.0068| test_acc: 99.79%\n",
      "Epochs: 9 | train_loss : 0.0068 | train_acc: 99.74% | test_loss : 0.0046| test_acc: 99.87%\n",
      "Total training time: 942.019 seconds\n"
     ]
    }
   ],
   "source": [
    "from timeit import default_timer as timer\n",
    "# Set random seeds\n",
    "# torch.manual_seed(42)\n",
    "# torch.cuda.manual_seed(42)\n",
    "\n",
    "\n",
    "\n",
    "# early_stopping = EarlyStopping(patience=5)\n",
    "\n",
    "# Device agnostic\n",
    "device= (\"cuda\" if torch.cuda.is_available() else \"cpu\")\n",
    "\n",
    "# Implement model\n",
    "model_2 = LeNet()\n",
    "\n",
    "\n",
    "# Implement loss function and optimizer\n",
    "loss_fn =  torch.nn.CrossEntropyLoss()\n",
    "optimizer = torch.optim.Adam(params=model_2.parameters(),\n",
    "                             lr=LR_RATE)\n",
    "\n",
    "start_time = timer()\n",
    "\n",
    "model_2_results = train(model=model_2,\n",
    "                        train_dataloader=train_dataloader_11,\n",
    "                        test_dataloader=test_dataloader_11,\n",
    "                        optimizer=optimizer,\n",
    "                        loss_fn=loss_fn,\n",
    "                        epochs=NUM_EPOCHS,\n",
    "                        device=device,\n",
    "                        # early_stopping=early_stopping\n",
    "                        )\n",
    "\n",
    "end_time = timer()\n",
    "print(f\"Total training time: {end_time - start_time:.3f} seconds\")"
   ]
  },
  {
   "cell_type": "code",
   "execution_count": 18,
   "metadata": {},
   "outputs": [
    {
     "data": {
      "image/png": "[encoded data removed]",
      "text/plain": [
       "<Figure size 1500x700 with 2 Axes>"
      ]
     },
     "metadata": {},
     "output_type": "display_data"
    }
   ],
   "source": [
    "plot_loss_curves(model_2_results)"
   ]
  },
  {
   "cell_type": "code",
   "execution_count": 19,
   "metadata": {},
   "outputs": [],
   "source": [
    "# Convert the results to a DataFrame and save it as a CSV file\n",
    "model_2_df = pd.DataFrame(model_2_results)\n",
    "model_2_df.to_csv(os.path.join(results_dir, \"exp6/dv_ts_11ms_1.csv\"), index=False)"
   ]
  },
  {
   "cell_type": "code",
   "execution_count": 20,
   "metadata": {},
   "outputs": [
    {
     "data": {
      "text/plain": [
       "0    [[2635, 0], [66, 1953]]\n",
       "1    [[2635, 0], [25, 1994]]\n",
       "2    [[2635, 0], [24, 1995]]\n",
       "3    [[2635, 0], [14, 2005]]\n",
       "4    [[2635, 0], [15, 2004]]\n",
       "5    [[2635, 0], [22, 1997]]\n",
       "6    [[2635, 0], [15, 2004]]\n",
       "7    [[2635, 0], [14, 2005]]\n",
       "8    [[2635, 0], [10, 2009]]\n",
       "9     [[2635, 0], [6, 2013]]\n",
       "Name: test_confusion_matrix, dtype: object"
      ]
     },
     "execution_count": 20,
     "metadata": {},
     "output_type": "execute_result"
    }
   ],
   "source": [
    "model_2_df['test_confusion_matrix']"
   ]
  }
 ],
 "metadata": {
  "kernelspec": {
   "display_name": "Python 3",
   "language": "python",
   "name": "python3"
  },
  "language_info": {
   "codemirror_mode": {
    "name": "ipython",
    "version": 3
   },
   "file_extension": ".py",
   "mimetype": "text/x-python",
   "name": "python",
   "nbconvert_exporter": "python",
   "pygments_lexer": "ipython3",
   "version": "3.9.19"
  }
 },
 "nbformat": 4,
 "nbformat_minor": 2
}
