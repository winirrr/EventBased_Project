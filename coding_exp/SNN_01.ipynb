{
 "cells": [
  {
   "cell_type": "code",
   "execution_count": 1,
   "metadata": {},
   "outputs": [],
   "source": [
    "import numpy as np\n",
    "import pandas as pd\n",
    "import dv_processing as dv\n",
    "\n",
    "from datetime import timedelta"
   ]
  },
  {
   "cell_type": "code",
   "execution_count": 2,
   "metadata": {},
   "outputs": [],
   "source": [
    "def extract_event_data(events):\n",
    "    return np.array([[event.timestamp(),\n",
    "                      event.x(),\n",
    "                      event.y(),\n",
    "                      event.polarity()] for event in events])\n",
    "\n",
    "\n",
    "def get_event_data(file_path):\n",
    "    capture = dv.io.MonoCameraRecording(file_path)\n",
    "\n",
    "    slicer = dv.EventStreamSlicer()\n",
    "    sliced_events = []\n",
    "    def slicing_callback(events: dv.EventStore):\n",
    "        extracted_events = extract_event_data(events)\n",
    "        sliced_events.append(extracted_events)\n",
    "\n",
    "    slicer.doEveryTimeInterval(timedelta(milliseconds=1), slicing_callback)\n",
    "    while capture.isRunning():\n",
    "        events = capture.getNextEventBatch()\n",
    "        if events is not None:\n",
    "            slicer.accept(events)\n",
    "    \n",
    "    # Concatenate all sliced event arrays into one array of shape (n, 4)\n",
    "    if sliced_events:\n",
    "        fused_array = np.concatenate(sliced_events, axis=0)\n",
    "        return fused_array\n",
    "    else:\n",
    "        return np.array([])\n",
    "\n",
    "    # return sliced_events"
   ]
  },
  {
   "cell_type": "code",
   "execution_count": 3,
   "metadata": {},
   "outputs": [],
   "source": [
    "press_events = get_event_data('/Users/winirrr/Documents/EventBased_Project/raw_data/EB_data_1/press/dvSave-2024_06_27_16_22_11.aedat4')"
   ]
  },
  {
   "cell_type": "code",
   "execution_count": 4,
   "metadata": {},
   "outputs": [],
   "source": [
    "df_press = pd.DataFrame(press_events, columns=[\"timestamp\", \"x\", \"y\", \"polarity\"])"
   ]
  },
  {
   "cell_type": "code",
   "execution_count": 5,
   "metadata": {},
   "outputs": [
    {
     "data": {
      "text/html": [
       "<div>\n",
       "<style scoped>\n",
       "    .dataframe tbody tr th:only-of-type {\n",
       "        vertical-align: middle;\n",
       "    }\n",
       "\n",
       "    .dataframe tbody tr th {\n",
       "        vertical-align: top;\n",
       "    }\n",
       "\n",
       "    .dataframe thead th {\n",
       "        text-align: right;\n",
       "    }\n",
       "</style>\n",
       "<table border=\"1\" class=\"dataframe\">\n",
       "  <thead>\n",
       "    <tr style=\"text-align: right;\">\n",
       "      <th></th>\n",
       "      <th>timestamp</th>\n",
       "      <th>x</th>\n",
       "      <th>y</th>\n",
       "      <th>polarity</th>\n",
       "    </tr>\n",
       "  </thead>\n",
       "  <tbody>\n",
       "    <tr>\n",
       "      <th>0</th>\n",
       "      <td>1719472931617899</td>\n",
       "      <td>99</td>\n",
       "      <td>265</td>\n",
       "      <td>0</td>\n",
       "    </tr>\n",
       "    <tr>\n",
       "      <th>1</th>\n",
       "      <td>1719472931617900</td>\n",
       "      <td>95</td>\n",
       "      <td>452</td>\n",
       "      <td>1</td>\n",
       "    </tr>\n",
       "    <tr>\n",
       "      <th>2</th>\n",
       "      <td>1719472931617900</td>\n",
       "      <td>93</td>\n",
       "      <td>312</td>\n",
       "      <td>0</td>\n",
       "    </tr>\n",
       "    <tr>\n",
       "      <th>3</th>\n",
       "      <td>1719472931617901</td>\n",
       "      <td>90</td>\n",
       "      <td>410</td>\n",
       "      <td>0</td>\n",
       "    </tr>\n",
       "    <tr>\n",
       "      <th>4</th>\n",
       "      <td>1719472931617902</td>\n",
       "      <td>89</td>\n",
       "      <td>315</td>\n",
       "      <td>1</td>\n",
       "    </tr>\n",
       "  </tbody>\n",
       "</table>\n",
       "</div>"
      ],
      "text/plain": [
       "          timestamp   x    y  polarity\n",
       "0  1719472931617899  99  265         0\n",
       "1  1719472931617900  95  452         1\n",
       "2  1719472931617900  93  312         0\n",
       "3  1719472931617901  90  410         0\n",
       "4  1719472931617902  89  315         1"
      ]
     },
     "execution_count": 5,
     "metadata": {},
     "output_type": "execute_result"
    }
   ],
   "source": [
    "df_press.head()"
   ]
  },
  {
   "cell_type": "code",
   "execution_count": 6,
   "metadata": {},
   "outputs": [],
   "source": [
    "df_press['labels'] = 'press'"
   ]
  },
  {
   "cell_type": "code",
   "execution_count": 7,
   "metadata": {},
   "outputs": [
    {
     "data": {
      "text/html": [
       "<div>\n",
       "<style scoped>\n",
       "    .dataframe tbody tr th:only-of-type {\n",
       "        vertical-align: middle;\n",
       "    }\n",
       "\n",
       "    .dataframe tbody tr th {\n",
       "        vertical-align: top;\n",
       "    }\n",
       "\n",
       "    .dataframe thead th {\n",
       "        text-align: right;\n",
       "    }\n",
       "</style>\n",
       "<table border=\"1\" class=\"dataframe\">\n",
       "  <thead>\n",
       "    <tr style=\"text-align: right;\">\n",
       "      <th></th>\n",
       "      <th>timestamp</th>\n",
       "      <th>x</th>\n",
       "      <th>y</th>\n",
       "      <th>polarity</th>\n",
       "      <th>labels</th>\n",
       "    </tr>\n",
       "  </thead>\n",
       "  <tbody>\n",
       "    <tr>\n",
       "      <th>0</th>\n",
       "      <td>1719472931617899</td>\n",
       "      <td>99</td>\n",
       "      <td>265</td>\n",
       "      <td>0</td>\n",
       "      <td>press</td>\n",
       "    </tr>\n",
       "    <tr>\n",
       "      <th>1</th>\n",
       "      <td>1719472931617900</td>\n",
       "      <td>95</td>\n",
       "      <td>452</td>\n",
       "      <td>1</td>\n",
       "      <td>press</td>\n",
       "    </tr>\n",
       "    <tr>\n",
       "      <th>2</th>\n",
       "      <td>1719472931617900</td>\n",
       "      <td>93</td>\n",
       "      <td>312</td>\n",
       "      <td>0</td>\n",
       "      <td>press</td>\n",
       "    </tr>\n",
       "    <tr>\n",
       "      <th>3</th>\n",
       "      <td>1719472931617901</td>\n",
       "      <td>90</td>\n",
       "      <td>410</td>\n",
       "      <td>0</td>\n",
       "      <td>press</td>\n",
       "    </tr>\n",
       "    <tr>\n",
       "      <th>4</th>\n",
       "      <td>1719472931617902</td>\n",
       "      <td>89</td>\n",
       "      <td>315</td>\n",
       "      <td>1</td>\n",
       "      <td>press</td>\n",
       "    </tr>\n",
       "  </tbody>\n",
       "</table>\n",
       "</div>"
      ],
      "text/plain": [
       "          timestamp   x    y  polarity labels\n",
       "0  1719472931617899  99  265         0  press\n",
       "1  1719472931617900  95  452         1  press\n",
       "2  1719472931617900  93  312         0  press\n",
       "3  1719472931617901  90  410         0  press\n",
       "4  1719472931617902  89  315         1  press"
      ]
     },
     "execution_count": 7,
     "metadata": {},
     "output_type": "execute_result"
    }
   ],
   "source": [
    "df_press.head()"
   ]
  },
  {
   "cell_type": "code",
   "execution_count": 8,
   "metadata": {},
   "outputs": [],
   "source": [
    "no_press = get_event_data('/Users/winirrr/Documents/EventBased_Project/raw_data/EB_data_1/no_press/dvSave-2024_06_25_15_34_04.aedat4')"
   ]
  },
  {
   "cell_type": "code",
   "execution_count": 9,
   "metadata": {},
   "outputs": [
    {
     "data": {
      "text/html": [
       "<div>\n",
       "<style scoped>\n",
       "    .dataframe tbody tr th:only-of-type {\n",
       "        vertical-align: middle;\n",
       "    }\n",
       "\n",
       "    .dataframe tbody tr th {\n",
       "        vertical-align: top;\n",
       "    }\n",
       "\n",
       "    .dataframe thead th {\n",
       "        text-align: right;\n",
       "    }\n",
       "</style>\n",
       "<table border=\"1\" class=\"dataframe\">\n",
       "  <thead>\n",
       "    <tr style=\"text-align: right;\">\n",
       "      <th></th>\n",
       "      <th>timestamp</th>\n",
       "      <th>x</th>\n",
       "      <th>y</th>\n",
       "      <th>polarity</th>\n",
       "      <th>labels</th>\n",
       "    </tr>\n",
       "  </thead>\n",
       "  <tbody>\n",
       "    <tr>\n",
       "      <th>0</th>\n",
       "      <td>1719297244971248</td>\n",
       "      <td>40</td>\n",
       "      <td>476</td>\n",
       "      <td>0</td>\n",
       "      <td>no_press</td>\n",
       "    </tr>\n",
       "    <tr>\n",
       "      <th>1</th>\n",
       "      <td>1719297244971269</td>\n",
       "      <td>639</td>\n",
       "      <td>126</td>\n",
       "      <td>1</td>\n",
       "      <td>no_press</td>\n",
       "    </tr>\n",
       "    <tr>\n",
       "      <th>2</th>\n",
       "      <td>1719297244971285</td>\n",
       "      <td>585</td>\n",
       "      <td>132</td>\n",
       "      <td>1</td>\n",
       "      <td>no_press</td>\n",
       "    </tr>\n",
       "    <tr>\n",
       "      <th>3</th>\n",
       "      <td>1719297244971292</td>\n",
       "      <td>561</td>\n",
       "      <td>46</td>\n",
       "      <td>1</td>\n",
       "      <td>no_press</td>\n",
       "    </tr>\n",
       "    <tr>\n",
       "      <th>4</th>\n",
       "      <td>1719297244971293</td>\n",
       "      <td>560</td>\n",
       "      <td>51</td>\n",
       "      <td>0</td>\n",
       "      <td>no_press</td>\n",
       "    </tr>\n",
       "  </tbody>\n",
       "</table>\n",
       "</div>"
      ],
      "text/plain": [
       "          timestamp    x    y  polarity    labels\n",
       "0  1719297244971248   40  476         0  no_press\n",
       "1  1719297244971269  639  126         1  no_press\n",
       "2  1719297244971285  585  132         1  no_press\n",
       "3  1719297244971292  561   46         1  no_press\n",
       "4  1719297244971293  560   51         0  no_press"
      ]
     },
     "execution_count": 9,
     "metadata": {},
     "output_type": "execute_result"
    }
   ],
   "source": [
    "df_no_press = pd.DataFrame(no_press, columns=[\"timestamp\", \"x\", \"y\", \"polarity\"])\n",
    "df_no_press['labels'] = \"no_press\"\n",
    "df_no_press.head()"
   ]
  },
  {
   "cell_type": "code",
   "execution_count": 10,
   "metadata": {},
   "outputs": [],
   "source": [
    "df_press_500 = df_press[:500]"
   ]
  },
  {
   "cell_type": "code",
   "execution_count": 11,
   "metadata": {},
   "outputs": [
    {
     "data": {
      "text/plain": [
       "500"
      ]
     },
     "execution_count": 11,
     "metadata": {},
     "output_type": "execute_result"
    }
   ],
   "source": [
    "len(df_press_500)"
   ]
  },
  {
   "cell_type": "code",
   "execution_count": 12,
   "metadata": {},
   "outputs": [],
   "source": [
    "df_no_press_500 = df_no_press[:500]"
   ]
  },
  {
   "cell_type": "code",
   "execution_count": 13,
   "metadata": {},
   "outputs": [
    {
     "data": {
      "text/plain": [
       "500"
      ]
     },
     "execution_count": 13,
     "metadata": {},
     "output_type": "execute_result"
    }
   ],
   "source": [
    "len(df_no_press_500)"
   ]
  },
  {
   "cell_type": "code",
   "execution_count": 17,
   "metadata": {},
   "outputs": [],
   "source": [
    "import os\n",
    "exp_0_df = pd.concat([df_press_500,df_no_press_500])\n",
    "\n",
    "\n",
    "exp_data_dir = os.path.join(\"/Users/winirrr/Documents/EventBased_Project\", 'exp_data')\n",
    "os.makedirs(exp_data_dir, exist_ok=True)\n",
    "\n",
    "exp_0_df.to_csv(os.path.join(exp_data_dir, 'exp_0_df.csv'))"
   ]
  },
  {
   "cell_type": "code",
   "execution_count": null,
   "metadata": {},
   "outputs": [],
   "source": []
  }
 ],
 "metadata": {
  "kernelspec": {
   "display_name": "Python 3",
   "language": "python",
   "name": "python3"
  },
  "language_info": {
   "codemirror_mode": {
    "name": "ipython",
    "version": 3
   },
   "file_extension": ".py",
   "mimetype": "text/x-python",
   "name": "python",
   "nbconvert_exporter": "python",
   "pygments_lexer": "ipython3",
   "version": "3.9.19"
  }
 },
 "nbformat": 4,
 "nbformat_minor": 2
}
